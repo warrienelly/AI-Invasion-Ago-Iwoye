{
 "cells": [
  {
   "cell_type": "markdown",
   "metadata": {},
   "source": [
    "Start by importing all the libraries i will be using"
   ]
  },
  {
   "cell_type": "code",
   "execution_count": 1,
   "metadata": {},
   "outputs": [],
   "source": [
    "import pandas as pd\n",
    "import numpy as np\n",
    "import matplotlib.pyplot as plt\n",
    "import seaborn as sns\n",
    "\n",
    "#Makes graph display in notebook\n",
    "%matplotlib inline   "
   ]
  },
  {
   "cell_type": "markdown",
   "metadata": {},
   "source": [
    "#### Import my data"
   ]
  },
  {
   "cell_type": "code",
   "execution_count": 2,
   "metadata": {},
   "outputs": [],
   "source": [
    "supermarket_data = pd.read_csv('train.csv')"
   ]
  },
  {
   "cell_type": "code",
   "execution_count": 7,
   "metadata": {},
   "outputs": [
    {
     "data": {
      "text/html": [
       "<div>\n",
       "<style scoped>\n",
       "    .dataframe tbody tr th:only-of-type {\n",
       "        vertical-align: middle;\n",
       "    }\n",
       "\n",
       "    .dataframe tbody tr th {\n",
       "        vertical-align: top;\n",
       "    }\n",
       "\n",
       "    .dataframe thead th {\n",
       "        text-align: right;\n",
       "    }\n",
       "</style>\n",
       "<table border=\"1\" class=\"dataframe\">\n",
       "  <thead>\n",
       "    <tr style=\"text-align: right;\">\n",
       "      <th></th>\n",
       "      <th>Product_Identifier</th>\n",
       "      <th>Supermarket_Identifier</th>\n",
       "      <th>Product_Supermarket_Identifier</th>\n",
       "      <th>Product_Weight</th>\n",
       "      <th>Product_Fat_Content</th>\n",
       "      <th>Product_Shelf_Visibility</th>\n",
       "      <th>Product_Type</th>\n",
       "      <th>Product_Price</th>\n",
       "      <th>Supermarket_Opening_Year</th>\n",
       "      <th>Supermarket _Size</th>\n",
       "      <th>Supermarket_Location_Type</th>\n",
       "      <th>Supermarket_Type</th>\n",
       "      <th>Product_Supermarket_Sales</th>\n",
       "    </tr>\n",
       "  </thead>\n",
       "  <tbody>\n",
       "    <tr>\n",
       "      <th>0</th>\n",
       "      <td>DRA12</td>\n",
       "      <td>CHUKWUDI010</td>\n",
       "      <td>DRA12_CHUKWUDI010</td>\n",
       "      <td>11.6</td>\n",
       "      <td>Low Fat</td>\n",
       "      <td>0.068535</td>\n",
       "      <td>Soft Drinks</td>\n",
       "      <td>357.54</td>\n",
       "      <td>2005</td>\n",
       "      <td>NaN</td>\n",
       "      <td>Cluster 3</td>\n",
       "      <td>Grocery Store</td>\n",
       "      <td>709.08</td>\n",
       "    </tr>\n",
       "    <tr>\n",
       "      <th>1</th>\n",
       "      <td>DRA12</td>\n",
       "      <td>CHUKWUDI013</td>\n",
       "      <td>DRA12_CHUKWUDI013</td>\n",
       "      <td>11.6</td>\n",
       "      <td>Low Fat</td>\n",
       "      <td>0.040912</td>\n",
       "      <td>Soft Drinks</td>\n",
       "      <td>355.79</td>\n",
       "      <td>1994</td>\n",
       "      <td>High</td>\n",
       "      <td>Cluster 3</td>\n",
       "      <td>Supermarket Type1</td>\n",
       "      <td>6381.69</td>\n",
       "    </tr>\n",
       "    <tr>\n",
       "      <th>2</th>\n",
       "      <td>DRA12</td>\n",
       "      <td>CHUKWUDI017</td>\n",
       "      <td>DRA12_CHUKWUDI017</td>\n",
       "      <td>11.6</td>\n",
       "      <td>Low Fat</td>\n",
       "      <td>0.041178</td>\n",
       "      <td>Soft Drinks</td>\n",
       "      <td>350.79</td>\n",
       "      <td>2014</td>\n",
       "      <td>NaN</td>\n",
       "      <td>Cluster 2</td>\n",
       "      <td>Supermarket Type1</td>\n",
       "      <td>6381.69</td>\n",
       "    </tr>\n",
       "    <tr>\n",
       "      <th>3</th>\n",
       "      <td>DRA12</td>\n",
       "      <td>CHUKWUDI018</td>\n",
       "      <td>DRA12_CHUKWUDI018</td>\n",
       "      <td>11.6</td>\n",
       "      <td>Low Fat</td>\n",
       "      <td>0.041113</td>\n",
       "      <td>Soft Drinks</td>\n",
       "      <td>355.04</td>\n",
       "      <td>2016</td>\n",
       "      <td>Medium</td>\n",
       "      <td>Cluster 3</td>\n",
       "      <td>Supermarket Type2</td>\n",
       "      <td>2127.23</td>\n",
       "    </tr>\n",
       "    <tr>\n",
       "      <th>4</th>\n",
       "      <td>DRA12</td>\n",
       "      <td>CHUKWUDI035</td>\n",
       "      <td>DRA12_CHUKWUDI035</td>\n",
       "      <td>11.6</td>\n",
       "      <td>Ultra Low fat</td>\n",
       "      <td>0.000000</td>\n",
       "      <td>Soft Drinks</td>\n",
       "      <td>354.79</td>\n",
       "      <td>2011</td>\n",
       "      <td>Small</td>\n",
       "      <td>Cluster 2</td>\n",
       "      <td>Supermarket Type1</td>\n",
       "      <td>2481.77</td>\n",
       "    </tr>\n",
       "  </tbody>\n",
       "</table>\n",
       "</div>"
      ],
      "text/plain": [
       "  Product_Identifier Supermarket_Identifier Product_Supermarket_Identifier  \\\n",
       "0              DRA12            CHUKWUDI010              DRA12_CHUKWUDI010   \n",
       "1              DRA12            CHUKWUDI013              DRA12_CHUKWUDI013   \n",
       "2              DRA12            CHUKWUDI017              DRA12_CHUKWUDI017   \n",
       "3              DRA12            CHUKWUDI018              DRA12_CHUKWUDI018   \n",
       "4              DRA12            CHUKWUDI035              DRA12_CHUKWUDI035   \n",
       "\n",
       "   Product_Weight Product_Fat_Content  Product_Shelf_Visibility Product_Type  \\\n",
       "0            11.6             Low Fat                  0.068535  Soft Drinks   \n",
       "1            11.6             Low Fat                  0.040912  Soft Drinks   \n",
       "2            11.6             Low Fat                  0.041178  Soft Drinks   \n",
       "3            11.6             Low Fat                  0.041113  Soft Drinks   \n",
       "4            11.6       Ultra Low fat                  0.000000  Soft Drinks   \n",
       "\n",
       "   Product_Price  Supermarket_Opening_Year Supermarket _Size  \\\n",
       "0         357.54                      2005               NaN   \n",
       "1         355.79                      1994              High   \n",
       "2         350.79                      2014               NaN   \n",
       "3         355.04                      2016            Medium   \n",
       "4         354.79                      2011             Small   \n",
       "\n",
       "  Supermarket_Location_Type   Supermarket_Type  Product_Supermarket_Sales  \n",
       "0                 Cluster 3      Grocery Store                     709.08  \n",
       "1                 Cluster 3  Supermarket Type1                    6381.69  \n",
       "2                 Cluster 2  Supermarket Type1                    6381.69  \n",
       "3                 Cluster 3  Supermarket Type2                    2127.23  \n",
       "4                 Cluster 2  Supermarket Type1                    2481.77  "
      ]
     },
     "execution_count": 7,
     "metadata": {},
     "output_type": "execute_result"
    }
   ],
   "source": [
    "supermarket_data.head()"
   ]
  },
  {
   "cell_type": "code",
   "execution_count": 5,
   "metadata": {},
   "outputs": [
    {
     "data": {
      "text/plain": [
       "(4990, 13)"
      ]
     },
     "execution_count": 5,
     "metadata": {},
     "output_type": "execute_result"
    }
   ],
   "source": [
    "#Displaty the number of rows and columns\n",
    "supermarket_data.shape"
   ]
  },
  {
   "cell_type": "code",
   "execution_count": 143,
   "metadata": {},
   "outputs": [
    {
     "data": {
      "text/html": [
       "<div>\n",
       "<style scoped>\n",
       "    .dataframe tbody tr th:only-of-type {\n",
       "        vertical-align: middle;\n",
       "    }\n",
       "\n",
       "    .dataframe tbody tr th {\n",
       "        vertical-align: top;\n",
       "    }\n",
       "\n",
       "    .dataframe thead th {\n",
       "        text-align: right;\n",
       "    }\n",
       "</style>\n",
       "<table border=\"1\" class=\"dataframe\">\n",
       "  <thead>\n",
       "    <tr style=\"text-align: right;\">\n",
       "      <th></th>\n",
       "      <th>Product_Weight</th>\n",
       "      <th>Product_Shelf_Visibility</th>\n",
       "      <th>Product_Price</th>\n",
       "      <th>Supermarket_Opening_Year</th>\n",
       "      <th>Product_Supermarket_Sales</th>\n",
       "    </tr>\n",
       "  </thead>\n",
       "  <tbody>\n",
       "    <tr>\n",
       "      <th>count</th>\n",
       "      <td>4188.000000</td>\n",
       "      <td>4990.000000</td>\n",
       "      <td>4990.000000</td>\n",
       "      <td>4990.000000</td>\n",
       "      <td>4990.000000</td>\n",
       "    </tr>\n",
       "    <tr>\n",
       "      <th>mean</th>\n",
       "      <td>12.908838</td>\n",
       "      <td>0.066916</td>\n",
       "      <td>391.803796</td>\n",
       "      <td>2004.783567</td>\n",
       "      <td>6103.520164</td>\n",
       "    </tr>\n",
       "    <tr>\n",
       "      <th>std</th>\n",
       "      <td>4.703256</td>\n",
       "      <td>0.053058</td>\n",
       "      <td>119.378259</td>\n",
       "      <td>8.283151</td>\n",
       "      <td>4447.333835</td>\n",
       "    </tr>\n",
       "    <tr>\n",
       "      <th>min</th>\n",
       "      <td>4.555000</td>\n",
       "      <td>0.000000</td>\n",
       "      <td>78.730000</td>\n",
       "      <td>1992.000000</td>\n",
       "      <td>83.230000</td>\n",
       "    </tr>\n",
       "    <tr>\n",
       "      <th>25%</th>\n",
       "      <td>8.767500</td>\n",
       "      <td>0.027273</td>\n",
       "      <td>307.890000</td>\n",
       "      <td>1994.000000</td>\n",
       "      <td>2757.660000</td>\n",
       "    </tr>\n",
       "    <tr>\n",
       "      <th>50%</th>\n",
       "      <td>12.600000</td>\n",
       "      <td>0.053564</td>\n",
       "      <td>393.860000</td>\n",
       "      <td>2006.000000</td>\n",
       "      <td>5374.675000</td>\n",
       "    </tr>\n",
       "    <tr>\n",
       "      <th>75%</th>\n",
       "      <td>17.100000</td>\n",
       "      <td>0.095358</td>\n",
       "      <td>465.067500</td>\n",
       "      <td>2011.000000</td>\n",
       "      <td>8522.240000</td>\n",
       "    </tr>\n",
       "    <tr>\n",
       "      <th>max</th>\n",
       "      <td>21.350000</td>\n",
       "      <td>0.328391</td>\n",
       "      <td>667.220000</td>\n",
       "      <td>2016.000000</td>\n",
       "      <td>32717.410000</td>\n",
       "    </tr>\n",
       "  </tbody>\n",
       "</table>\n",
       "</div>"
      ],
      "text/plain": [
       "       Product_Weight  Product_Shelf_Visibility  Product_Price  \\\n",
       "count     4188.000000               4990.000000    4990.000000   \n",
       "mean        12.908838                  0.066916     391.803796   \n",
       "std          4.703256                  0.053058     119.378259   \n",
       "min          4.555000                  0.000000      78.730000   \n",
       "25%          8.767500                  0.027273     307.890000   \n",
       "50%         12.600000                  0.053564     393.860000   \n",
       "75%         17.100000                  0.095358     465.067500   \n",
       "max         21.350000                  0.328391     667.220000   \n",
       "\n",
       "       Supermarket_Opening_Year  Product_Supermarket_Sales  \n",
       "count               4990.000000                4990.000000  \n",
       "mean                2004.783567                6103.520164  \n",
       "std                    8.283151                4447.333835  \n",
       "min                 1992.000000                  83.230000  \n",
       "25%                 1994.000000                2757.660000  \n",
       "50%                 2006.000000                5374.675000  \n",
       "75%                 2011.000000                8522.240000  \n",
       "max                 2016.000000               32717.410000  "
      ]
     },
     "execution_count": 143,
     "metadata": {},
     "output_type": "execute_result"
    }
   ],
   "source": [
    "supermarket_data.describe()"
   ]
  },
  {
   "cell_type": "code",
   "execution_count": 144,
   "metadata": {},
   "outputs": [
    {
     "data": {
      "text/plain": [
       "Product_Identifier                 object\n",
       "Supermarket_Identifier             object\n",
       "Product_Supermarket_Identifier     object\n",
       "Product_Weight                    float64\n",
       "Product_Fat_Content                object\n",
       "Product_Shelf_Visibility          float64\n",
       "Product_Type                       object\n",
       "Product_Price                     float64\n",
       "Supermarket_Opening_Year            int64\n",
       "Supermarket _Size                  object\n",
       "Supermarket_Location_Type          object\n",
       "Supermarket_Type                   object\n",
       "Product_Supermarket_Sales         float64\n",
       "dtype: object"
      ]
     },
     "execution_count": 144,
     "metadata": {},
     "output_type": "execute_result"
    }
   ],
   "source": [
    "supermarket_data.dtypes"
   ]
  },
  {
   "cell_type": "code",
   "execution_count": 8,
   "metadata": {},
   "outputs": [
    {
     "data": {
      "text/html": [
       "<div>\n",
       "<style scoped>\n",
       "    .dataframe tbody tr th:only-of-type {\n",
       "        vertical-align: middle;\n",
       "    }\n",
       "\n",
       "    .dataframe tbody tr th {\n",
       "        vertical-align: top;\n",
       "    }\n",
       "\n",
       "    .dataframe thead th {\n",
       "        text-align: right;\n",
       "    }\n",
       "</style>\n",
       "<table border=\"1\" class=\"dataframe\">\n",
       "  <thead>\n",
       "    <tr style=\"text-align: right;\">\n",
       "      <th></th>\n",
       "      <th>Product_Identifier</th>\n",
       "      <th>Supermarket_Identifier</th>\n",
       "      <th>Product_Supermarket_Identifier</th>\n",
       "      <th>Product_Weight</th>\n",
       "      <th>Product_Fat_Content</th>\n",
       "      <th>Product_Shelf_Visibility</th>\n",
       "      <th>Product_Type</th>\n",
       "      <th>Product_Price</th>\n",
       "      <th>Supermarket_Opening_Year</th>\n",
       "      <th>Supermarket _Size</th>\n",
       "      <th>Supermarket_Location_Type</th>\n",
       "      <th>Supermarket_Type</th>\n",
       "      <th>Product_Supermarket_Sales</th>\n",
       "    </tr>\n",
       "  </thead>\n",
       "  <tbody>\n",
       "    <tr>\n",
       "      <th>0</th>\n",
       "      <td>DRA12</td>\n",
       "      <td>CHUKWUDI010</td>\n",
       "      <td>DRA12_CHUKWUDI010</td>\n",
       "      <td>11.6</td>\n",
       "      <td>Low Fat</td>\n",
       "      <td>0.068535</td>\n",
       "      <td>Soft Drinks</td>\n",
       "      <td>357.54</td>\n",
       "      <td>2005</td>\n",
       "      <td>NaN</td>\n",
       "      <td>Cluster 3</td>\n",
       "      <td>Grocery Store</td>\n",
       "      <td>709.08</td>\n",
       "    </tr>\n",
       "    <tr>\n",
       "      <th>1</th>\n",
       "      <td>DRA12</td>\n",
       "      <td>CHUKWUDI013</td>\n",
       "      <td>DRA12_CHUKWUDI013</td>\n",
       "      <td>11.6</td>\n",
       "      <td>Low Fat</td>\n",
       "      <td>0.040912</td>\n",
       "      <td>Soft Drinks</td>\n",
       "      <td>355.79</td>\n",
       "      <td>1994</td>\n",
       "      <td>High</td>\n",
       "      <td>Cluster 3</td>\n",
       "      <td>Supermarket Type1</td>\n",
       "      <td>6381.69</td>\n",
       "    </tr>\n",
       "  </tbody>\n",
       "</table>\n",
       "</div>"
      ],
      "text/plain": [
       "  Product_Identifier Supermarket_Identifier Product_Supermarket_Identifier  \\\n",
       "0              DRA12            CHUKWUDI010              DRA12_CHUKWUDI010   \n",
       "1              DRA12            CHUKWUDI013              DRA12_CHUKWUDI013   \n",
       "\n",
       "   Product_Weight Product_Fat_Content  Product_Shelf_Visibility Product_Type  \\\n",
       "0            11.6             Low Fat                  0.068535  Soft Drinks   \n",
       "1            11.6             Low Fat                  0.040912  Soft Drinks   \n",
       "\n",
       "   Product_Price  Supermarket_Opening_Year Supermarket _Size  \\\n",
       "0         357.54                      2005               NaN   \n",
       "1         355.79                      1994              High   \n",
       "\n",
       "  Supermarket_Location_Type   Supermarket_Type  Product_Supermarket_Sales  \n",
       "0                 Cluster 3      Grocery Store                     709.08  \n",
       "1                 Cluster 3  Supermarket Type1                    6381.69  "
      ]
     },
     "execution_count": 8,
     "metadata": {},
     "output_type": "execute_result"
    }
   ],
   "source": [
    "supermarket_data.head(2)"
   ]
  },
  {
   "cell_type": "code",
   "execution_count": 11,
   "metadata": {},
   "outputs": [],
   "source": [
    "#Remove Id columns\n",
    "cols_2_remove = ['Product_Identifier', 'Supermarket_Identifier', 'Product_Supermarket_Identifier']\n",
    "\n",
    "newdata = supermarket_data.drop(cols_2_remove, axis=1)"
   ]
  },
  {
   "cell_type": "code",
   "execution_count": 15,
   "metadata": {},
   "outputs": [
    {
     "data": {
      "text/html": [
       "<div>\n",
       "<style scoped>\n",
       "    .dataframe tbody tr th:only-of-type {\n",
       "        vertical-align: middle;\n",
       "    }\n",
       "\n",
       "    .dataframe tbody tr th {\n",
       "        vertical-align: top;\n",
       "    }\n",
       "\n",
       "    .dataframe thead th {\n",
       "        text-align: right;\n",
       "    }\n",
       "</style>\n",
       "<table border=\"1\" class=\"dataframe\">\n",
       "  <thead>\n",
       "    <tr style=\"text-align: right;\">\n",
       "      <th></th>\n",
       "      <th>Product_Weight</th>\n",
       "      <th>Product_Fat_Content</th>\n",
       "      <th>Product_Shelf_Visibility</th>\n",
       "      <th>Product_Type</th>\n",
       "      <th>Product_Price</th>\n",
       "      <th>Supermarket_Opening_Year</th>\n",
       "      <th>Supermarket _Size</th>\n",
       "      <th>Supermarket_Location_Type</th>\n",
       "      <th>Supermarket_Type</th>\n",
       "      <th>Product_Supermarket_Sales</th>\n",
       "    </tr>\n",
       "  </thead>\n",
       "  <tbody>\n",
       "    <tr>\n",
       "      <th>0</th>\n",
       "      <td>11.6</td>\n",
       "      <td>Low Fat</td>\n",
       "      <td>0.068535</td>\n",
       "      <td>Soft Drinks</td>\n",
       "      <td>357.54</td>\n",
       "      <td>2005</td>\n",
       "      <td>NaN</td>\n",
       "      <td>Cluster 3</td>\n",
       "      <td>Grocery Store</td>\n",
       "      <td>709.08</td>\n",
       "    </tr>\n",
       "    <tr>\n",
       "      <th>1</th>\n",
       "      <td>11.6</td>\n",
       "      <td>Low Fat</td>\n",
       "      <td>0.040912</td>\n",
       "      <td>Soft Drinks</td>\n",
       "      <td>355.79</td>\n",
       "      <td>1994</td>\n",
       "      <td>High</td>\n",
       "      <td>Cluster 3</td>\n",
       "      <td>Supermarket Type1</td>\n",
       "      <td>6381.69</td>\n",
       "    </tr>\n",
       "    <tr>\n",
       "      <th>2</th>\n",
       "      <td>11.6</td>\n",
       "      <td>Low Fat</td>\n",
       "      <td>0.041178</td>\n",
       "      <td>Soft Drinks</td>\n",
       "      <td>350.79</td>\n",
       "      <td>2014</td>\n",
       "      <td>NaN</td>\n",
       "      <td>Cluster 2</td>\n",
       "      <td>Supermarket Type1</td>\n",
       "      <td>6381.69</td>\n",
       "    </tr>\n",
       "    <tr>\n",
       "      <th>3</th>\n",
       "      <td>11.6</td>\n",
       "      <td>Low Fat</td>\n",
       "      <td>0.041113</td>\n",
       "      <td>Soft Drinks</td>\n",
       "      <td>355.04</td>\n",
       "      <td>2016</td>\n",
       "      <td>Medium</td>\n",
       "      <td>Cluster 3</td>\n",
       "      <td>Supermarket Type2</td>\n",
       "      <td>2127.23</td>\n",
       "    </tr>\n",
       "    <tr>\n",
       "      <th>4</th>\n",
       "      <td>11.6</td>\n",
       "      <td>Ultra Low fat</td>\n",
       "      <td>0.000000</td>\n",
       "      <td>Soft Drinks</td>\n",
       "      <td>354.79</td>\n",
       "      <td>2011</td>\n",
       "      <td>Small</td>\n",
       "      <td>Cluster 2</td>\n",
       "      <td>Supermarket Type1</td>\n",
       "      <td>2481.77</td>\n",
       "    </tr>\n",
       "  </tbody>\n",
       "</table>\n",
       "</div>"
      ],
      "text/plain": [
       "   Product_Weight Product_Fat_Content  Product_Shelf_Visibility Product_Type  \\\n",
       "0            11.6             Low Fat                  0.068535  Soft Drinks   \n",
       "1            11.6             Low Fat                  0.040912  Soft Drinks   \n",
       "2            11.6             Low Fat                  0.041178  Soft Drinks   \n",
       "3            11.6             Low Fat                  0.041113  Soft Drinks   \n",
       "4            11.6       Ultra Low fat                  0.000000  Soft Drinks   \n",
       "\n",
       "   Product_Price  Supermarket_Opening_Year Supermarket _Size  \\\n",
       "0         357.54                      2005               NaN   \n",
       "1         355.79                      1994              High   \n",
       "2         350.79                      2014               NaN   \n",
       "3         355.04                      2016            Medium   \n",
       "4         354.79                      2011             Small   \n",
       "\n",
       "  Supermarket_Location_Type   Supermarket_Type  Product_Supermarket_Sales  \n",
       "0                 Cluster 3      Grocery Store                     709.08  \n",
       "1                 Cluster 3  Supermarket Type1                    6381.69  \n",
       "2                 Cluster 2  Supermarket Type1                    6381.69  \n",
       "3                 Cluster 3  Supermarket Type2                    2127.23  \n",
       "4                 Cluster 2  Supermarket Type1                    2481.77  "
      ]
     },
     "execution_count": 15,
     "metadata": {},
     "output_type": "execute_result"
    }
   ],
   "source": [
    "newdata.head()"
   ]
  },
  {
   "cell_type": "code",
   "execution_count": 16,
   "metadata": {},
   "outputs": [
    {
     "data": {
      "text/plain": [
       "(4990, 10)"
      ]
     },
     "execution_count": 16,
     "metadata": {},
     "output_type": "execute_result"
    }
   ],
   "source": [
    "newdata.shape"
   ]
  },
  {
   "cell_type": "code",
   "execution_count": 19,
   "metadata": {},
   "outputs": [],
   "source": [
    "cat_cols = ['Product_Fat_Content','Product_Type',\n",
    "            'Supermarket _Size', 'Supermarket_Location_Type',\n",
    "           'Supermarket_Type' ]\n",
    "\n",
    "num_cols = ['Product_Weight', 'Product_Shelf_Visibility',\n",
    "            'Product_Price', 'Supermarket_Opening_Year', 'Product_Supermarket_Sales']"
   ]
  },
  {
   "cell_type": "code",
   "execution_count": 20,
   "metadata": {},
   "outputs": [
    {
     "name": "stdout",
     "output_type": "stream",
     "text": [
      "Value Count for Product_Fat_Content\n",
      "Low Fat          3039\n",
      "Normal Fat       1773\n",
      "Ultra Low fat     178\n",
      "Name: Product_Fat_Content, dtype: int64\n",
      "---------------------------\n",
      "Value Count for Product_Type\n",
      "Snack Foods              758\n",
      "Fruits and Vegetables    747\n",
      "Household                567\n",
      "Frozen Foods             457\n",
      "Canned                   376\n",
      "Dairy                    350\n",
      "Baking Goods             344\n",
      "Health and Hygiene       307\n",
      "Meat                     264\n",
      "Soft Drinks              261\n",
      "Breads                   137\n",
      "Hard Drinks              134\n",
      "Others                   100\n",
      "Starchy Foods             81\n",
      "Breakfast                 66\n",
      "Seafood                   41\n",
      "Name: Product_Type, dtype: int64\n",
      "---------------------------\n",
      "Value Count for Supermarket _Size\n",
      "Medium    1582\n",
      "Small     1364\n",
      "High       594\n",
      "Name: Supermarket _Size, dtype: int64\n",
      "---------------------------\n",
      "Value Count for Supermarket_Location_Type\n",
      "Cluster 3    1940\n",
      "Cluster 2    1581\n",
      "Cluster 1    1469\n",
      "Name: Supermarket_Location_Type, dtype: int64\n",
      "---------------------------\n",
      "Value Count for Supermarket_Type\n",
      "Supermarket Type1    3304\n",
      "Grocery Store         724\n",
      "Supermarket Type2     500\n",
      "Supermarket Type3     462\n",
      "Name: Supermarket_Type, dtype: int64\n",
      "---------------------------\n"
     ]
    }
   ],
   "source": [
    "for col in cat_cols:\n",
    "    print('Value Count for', col)\n",
    "    print(newdata[col].value_counts())\n",
    "    print(\"---------------------------\")"
   ]
  },
  {
   "cell_type": "markdown",
   "metadata": {},
   "source": [
    "## DATA VISUALIZATION\n",
    "### BAR PLOT"
   ]
  },
  {
   "cell_type": "code",
   "execution_count": 22,
   "metadata": {},
   "outputs": [
    {
     "data": {
      "text/plain": [
       "Low Fat          3039\n",
       "Normal Fat       1773\n",
       "Ultra Low fat     178\n",
       "Name: Product_Fat_Content, dtype: int64"
      ]
     },
     "execution_count": 22,
     "metadata": {},
     "output_type": "execute_result"
    }
   ],
   "source": [
    "newdata['Product_Fat_Content'].value_counts()"
   ]
  },
  {
   "cell_type": "code",
   "execution_count": 32,
   "metadata": {
    "scrolled": false
   },
   "outputs": [
    {
     "data": {
      "image/png": "[encoded data removed]",
      "text/plain": [
       "<Figure size 432x432 with 1 Axes>"
      ]
     },
     "metadata": {
      "needs_background": "light"
     },
     "output_type": "display_data"
    },
    {
     "data": {
      "image/png": "[encoded data removed]",
      "text/plain": [
       "<Figure size 432x432 with 1 Axes>"
      ]
     },
     "metadata": {
      "needs_background": "light"
     },
     "output_type": "display_data"
    },
    {
     "data": {
      "image/png": "[encoded data removed]",
      "text/plain": [
       "<Figure size 432x432 with 1 Axes>"
      ]
     },
     "metadata": {
      "needs_background": "light"
     },
     "output_type": "display_data"
    },
    {
     "data": {
      "image/png": "[encoded data removed]",
      "text/plain": [
       "<Figure size 432x432 with 1 Axes>"
      ]
     },
     "metadata": {
      "needs_background": "light"
     },
     "output_type": "display_data"
    },
    {
     "data": {
      "image/png": "[encoded data removed]",
      "text/plain": [
       "<Figure size 432x432 with 1 Axes>"
      ]
     },
     "metadata": {
      "needs_background": "light"
     },
     "output_type": "display_data"
    }
   ],
   "source": [
    "for col in cat_cols:\n",
    "    fig = plt.figure(figsize=(6,6)) # define plot area\n",
    "    ax = fig.gca() # define axis  \n",
    "    \n",
    "    counts = newdata[col].value_counts() # find the counts for each unique category\n",
    "    counts.plot.bar(ax = ax) # Use the plot.bar method on the counts data frame\n",
    "    ax.set_title('Bar plot for ' + col)\n",
    "\n"
   ]
  },
  {
   "cell_type": "markdown",
   "metadata": {},
   "source": [
    "# Scatter plot for Numerical Features"
   ]
  },
  {
   "cell_type": "code",
   "execution_count": 52,
   "metadata": {},
   "outputs": [
    {
     "data": {
      "text/html": [
       "<div>\n",
       "<style scoped>\n",
       "    .dataframe tbody tr th:only-of-type {\n",
       "        vertical-align: middle;\n",
       "    }\n",
       "\n",
       "    .dataframe tbody tr th {\n",
       "        vertical-align: top;\n",
       "    }\n",
       "\n",
       "    .dataframe thead th {\n",
       "        text-align: right;\n",
       "    }\n",
       "</style>\n",
       "<table border=\"1\" class=\"dataframe\">\n",
       "  <thead>\n",
       "    <tr style=\"text-align: right;\">\n",
       "      <th></th>\n",
       "      <th>Product_Weight</th>\n",
       "      <th>Product_Fat_Content</th>\n",
       "      <th>Product_Shelf_Visibility</th>\n",
       "      <th>Product_Type</th>\n",
       "      <th>Product_Price</th>\n",
       "      <th>Supermarket_Opening_Year</th>\n",
       "      <th>Supermarket _Size</th>\n",
       "      <th>Supermarket_Location_Type</th>\n",
       "      <th>Supermarket_Type</th>\n",
       "      <th>Product_Supermarket_Sales</th>\n",
       "    </tr>\n",
       "  </thead>\n",
       "  <tbody>\n",
       "    <tr>\n",
       "      <th>0</th>\n",
       "      <td>11.6</td>\n",
       "      <td>Low Fat</td>\n",
       "      <td>0.068535</td>\n",
       "      <td>Soft Drinks</td>\n",
       "      <td>357.54</td>\n",
       "      <td>2005</td>\n",
       "      <td>NaN</td>\n",
       "      <td>Cluster 3</td>\n",
       "      <td>Grocery Store</td>\n",
       "      <td>709.08</td>\n",
       "    </tr>\n",
       "    <tr>\n",
       "      <th>1</th>\n",
       "      <td>11.6</td>\n",
       "      <td>Low Fat</td>\n",
       "      <td>0.040912</td>\n",
       "      <td>Soft Drinks</td>\n",
       "      <td>355.79</td>\n",
       "      <td>1994</td>\n",
       "      <td>High</td>\n",
       "      <td>Cluster 3</td>\n",
       "      <td>Supermarket Type1</td>\n",
       "      <td>6381.69</td>\n",
       "    </tr>\n",
       "    <tr>\n",
       "      <th>2</th>\n",
       "      <td>11.6</td>\n",
       "      <td>Low Fat</td>\n",
       "      <td>0.041178</td>\n",
       "      <td>Soft Drinks</td>\n",
       "      <td>350.79</td>\n",
       "      <td>2014</td>\n",
       "      <td>NaN</td>\n",
       "      <td>Cluster 2</td>\n",
       "      <td>Supermarket Type1</td>\n",
       "      <td>6381.69</td>\n",
       "    </tr>\n",
       "  </tbody>\n",
       "</table>\n",
       "</div>"
      ],
      "text/plain": [
       "   Product_Weight Product_Fat_Content  Product_Shelf_Visibility Product_Type  \\\n",
       "0            11.6             Low Fat                  0.068535  Soft Drinks   \n",
       "1            11.6             Low Fat                  0.040912  Soft Drinks   \n",
       "2            11.6             Low Fat                  0.041178  Soft Drinks   \n",
       "\n",
       "   Product_Price  Supermarket_Opening_Year Supermarket _Size  \\\n",
       "0         357.54                      2005               NaN   \n",
       "1         355.79                      1994              High   \n",
       "2         350.79                      2014               NaN   \n",
       "\n",
       "  Supermarket_Location_Type   Supermarket_Type  Product_Supermarket_Sales  \n",
       "0                 Cluster 3      Grocery Store                     709.08  \n",
       "1                 Cluster 3  Supermarket Type1                    6381.69  \n",
       "2                 Cluster 2  Supermarket Type1                    6381.69  "
      ]
     },
     "execution_count": 52,
     "metadata": {},
     "output_type": "execute_result"
    }
   ],
   "source": [
    "new_data.head(3)"
   ]
  },
  {
   "cell_type": "code",
   "execution_count": 34,
   "metadata": {
    "scrolled": false
   },
   "outputs": [
    {
     "data": {
      "image/png": "[encoded data removed]",
      "text/plain": [
       "<Figure size 432x432 with 1 Axes>"
      ]
     },
     "metadata": {
      "needs_background": "light"
     },
     "output_type": "display_data"
    },
    {
     "data": {
      "image/png": "[encoded data removed]",
      "text/plain": [
       "<Figure size 432x432 with 1 Axes>"
      ]
     },
     "metadata": {
      "needs_background": "light"
     },
     "output_type": "display_data"
    },
    {
     "data": {
      "image/png": "[encoded data removed]",
      "text/plain": [
       "<Figure size 432x432 with 1 Axes>"
      ]
     },
     "metadata": {
      "needs_background": "light"
     },
     "output_type": "display_data"
    },
    {
     "data": {
      "image/png": "[encoded data removed]",
      "text/plain": [
       "<Figure size 432x432 with 1 Axes>"
      ]
     },
     "metadata": {
      "needs_background": "light"
     },
     "output_type": "display_data"
    },
    {
     "data": {
      "image/png": "[encoded data removed]",
      "text/plain": [
       "<Figure size 432x432 with 1 Axes>"
      ]
     },
     "metadata": {
      "needs_background": "light"
     },
     "output_type": "display_data"
    }
   ],
   "source": [
    "for col in num_cols:\n",
    "    fig = plt.figure(figsize=(6,6)) # define plot area\n",
    "    ax = fig.gca() # define axis  \n",
    "\n",
    "    newdata.plot.scatter(x = col, y = 'Product_Supermarket_Sales', ax = ax)\n"
   ]
  },
  {
   "cell_type": "code",
   "execution_count": 37,
   "metadata": {},
   "outputs": [
    {
     "data": {
      "image/png": "[encoded data removed]",
      "text/plain": [
       "<Figure size 432x288 with 1 Axes>"
      ]
     },
     "metadata": {
      "needs_background": "light"
     },
     "output_type": "display_data"
    },
    {
     "data": {
      "image/png": "[encoded data removed]",
      "text/plain": [
       "<Figure size 432x288 with 1 Axes>"
      ]
     },
     "metadata": {
      "needs_background": "light"
     },
     "output_type": "display_data"
    },
    {
     "data": {
      "image/png": "[encoded data removed]",
      "text/plain": [
       "<Figure size 432x288 with 1 Axes>"
      ]
     },
     "metadata": {
      "needs_background": "light"
     },
     "output_type": "display_data"
    },
    {
     "data": {
      "image/png": "[encoded data removed]",
      "text/plain": [
       "<Figure size 432x288 with 1 Axes>"
      ]
     },
     "metadata": {
      "needs_background": "light"
     },
     "output_type": "display_data"
    },
    {
     "data": {
      "image/png": "[encoded data removed]",
      "text/plain": [
       "<Figure size 432x288 with 1 Axes>"
      ]
     },
     "metadata": {
      "needs_background": "light"
     },
     "output_type": "display_data"
    }
   ],
   "source": [
    "for col in cat_cols:\n",
    "    sns.boxplot(col, 'Product_Supermarket_Sales', data=newdata)\n",
    "    plt.xlabel(col) # Set text for the x axis\n",
    "    plt.ylabel('Product Supermarket Sales')# Set text for y axis\n",
    "    plt.show()\n",
    "  "
   ]
  },
  {
   "cell_type": "markdown",
   "metadata": {},
   "source": [
    "## FEATURE ENGINEERING\n",
    "\n",
    "Transform categorical features into numerical features"
   ]
  },
  {
   "cell_type": "code",
   "execution_count": 40,
   "metadata": {},
   "outputs": [],
   "source": [
    "#save the target value\n",
    "y_target = newdata['Product_Supermarket_Sales']\n",
    "newdata.drop(['Product_Supermarket_Sales'], axis=1, inplace=True)"
   ]
  },
  {
   "cell_type": "code",
   "execution_count": 42,
   "metadata": {},
   "outputs": [
    {
     "data": {
      "text/html": [
       "<div>\n",
       "<style scoped>\n",
       "    .dataframe tbody tr th:only-of-type {\n",
       "        vertical-align: middle;\n",
       "    }\n",
       "\n",
       "    .dataframe tbody tr th {\n",
       "        vertical-align: top;\n",
       "    }\n",
       "\n",
       "    .dataframe thead th {\n",
       "        text-align: right;\n",
       "    }\n",
       "</style>\n",
       "<table border=\"1\" class=\"dataframe\">\n",
       "  <thead>\n",
       "    <tr style=\"text-align: right;\">\n",
       "      <th></th>\n",
       "      <th>Product_Weight</th>\n",
       "      <th>Product_Fat_Content</th>\n",
       "      <th>Product_Shelf_Visibility</th>\n",
       "      <th>Product_Type</th>\n",
       "      <th>Product_Price</th>\n",
       "      <th>Supermarket_Opening_Year</th>\n",
       "      <th>Supermarket _Size</th>\n",
       "      <th>Supermarket_Location_Type</th>\n",
       "      <th>Supermarket_Type</th>\n",
       "    </tr>\n",
       "  </thead>\n",
       "  <tbody>\n",
       "    <tr>\n",
       "      <th>0</th>\n",
       "      <td>11.6</td>\n",
       "      <td>Low Fat</td>\n",
       "      <td>0.068535</td>\n",
       "      <td>Soft Drinks</td>\n",
       "      <td>357.54</td>\n",
       "      <td>2005</td>\n",
       "      <td>NaN</td>\n",
       "      <td>Cluster 3</td>\n",
       "      <td>Grocery Store</td>\n",
       "    </tr>\n",
       "    <tr>\n",
       "      <th>1</th>\n",
       "      <td>11.6</td>\n",
       "      <td>Low Fat</td>\n",
       "      <td>0.040912</td>\n",
       "      <td>Soft Drinks</td>\n",
       "      <td>355.79</td>\n",
       "      <td>1994</td>\n",
       "      <td>High</td>\n",
       "      <td>Cluster 3</td>\n",
       "      <td>Supermarket Type1</td>\n",
       "    </tr>\n",
       "  </tbody>\n",
       "</table>\n",
       "</div>"
      ],
      "text/plain": [
       "   Product_Weight Product_Fat_Content  Product_Shelf_Visibility Product_Type  \\\n",
       "0            11.6             Low Fat                  0.068535  Soft Drinks   \n",
       "1            11.6             Low Fat                  0.040912  Soft Drinks   \n",
       "\n",
       "   Product_Price  Supermarket_Opening_Year Supermarket _Size  \\\n",
       "0         357.54                      2005               NaN   \n",
       "1         355.79                      1994              High   \n",
       "\n",
       "  Supermarket_Location_Type   Supermarket_Type  \n",
       "0                 Cluster 3      Grocery Store  \n",
       "1                 Cluster 3  Supermarket Type1  "
      ]
     },
     "execution_count": 42,
     "metadata": {},
     "output_type": "execute_result"
    }
   ],
   "source": [
    "newdata.head(2)"
   ]
  },
  {
   "cell_type": "markdown",
   "metadata": {},
   "source": [
    "__Option 1: You can use the pandas get_dummies function when working smaller categories__"
   ]
  },
  {
   "cell_type": "code",
   "execution_count": 48,
   "metadata": {},
   "outputs": [
    {
     "data": {
      "text/html": [
       "<div>\n",
       "<style scoped>\n",
       "    .dataframe tbody tr th:only-of-type {\n",
       "        vertical-align: middle;\n",
       "    }\n",
       "\n",
       "    .dataframe tbody tr th {\n",
       "        vertical-align: top;\n",
       "    }\n",
       "\n",
       "    .dataframe thead th {\n",
       "        text-align: right;\n",
       "    }\n",
       "</style>\n",
       "<table border=\"1\" class=\"dataframe\">\n",
       "  <thead>\n",
       "    <tr style=\"text-align: right;\">\n",
       "      <th></th>\n",
       "      <th>Product_Weight</th>\n",
       "      <th>Product_Shelf_Visibility</th>\n",
       "      <th>Product_Price</th>\n",
       "      <th>Supermarket_Opening_Year</th>\n",
       "      <th>Product_Fat_Content_Low Fat</th>\n",
       "      <th>Product_Fat_Content_Normal Fat</th>\n",
       "      <th>Product_Fat_Content_Ultra Low fat</th>\n",
       "      <th>Product_Type_Baking Goods</th>\n",
       "      <th>Product_Type_Breads</th>\n",
       "      <th>Product_Type_Breakfast</th>\n",
       "      <th>...</th>\n",
       "      <th>Supermarket _Size_High</th>\n",
       "      <th>Supermarket _Size_Medium</th>\n",
       "      <th>Supermarket _Size_Small</th>\n",
       "      <th>Supermarket_Location_Type_Cluster 1</th>\n",
       "      <th>Supermarket_Location_Type_Cluster 2</th>\n",
       "      <th>Supermarket_Location_Type_Cluster 3</th>\n",
       "      <th>Supermarket_Type_Grocery Store</th>\n",
       "      <th>Supermarket_Type_Supermarket Type1</th>\n",
       "      <th>Supermarket_Type_Supermarket Type2</th>\n",
       "      <th>Supermarket_Type_Supermarket Type3</th>\n",
       "    </tr>\n",
       "  </thead>\n",
       "  <tbody>\n",
       "    <tr>\n",
       "      <th>0</th>\n",
       "      <td>11.6</td>\n",
       "      <td>0.068535</td>\n",
       "      <td>357.54</td>\n",
       "      <td>2005</td>\n",
       "      <td>1</td>\n",
       "      <td>0</td>\n",
       "      <td>0</td>\n",
       "      <td>0</td>\n",
       "      <td>0</td>\n",
       "      <td>0</td>\n",
       "      <td>...</td>\n",
       "      <td>0</td>\n",
       "      <td>0</td>\n",
       "      <td>0</td>\n",
       "      <td>0</td>\n",
       "      <td>0</td>\n",
       "      <td>1</td>\n",
       "      <td>1</td>\n",
       "      <td>0</td>\n",
       "      <td>0</td>\n",
       "      <td>0</td>\n",
       "    </tr>\n",
       "    <tr>\n",
       "      <th>1</th>\n",
       "      <td>11.6</td>\n",
       "      <td>0.040912</td>\n",
       "      <td>355.79</td>\n",
       "      <td>1994</td>\n",
       "      <td>1</td>\n",
       "      <td>0</td>\n",
       "      <td>0</td>\n",
       "      <td>0</td>\n",
       "      <td>0</td>\n",
       "      <td>0</td>\n",
       "      <td>...</td>\n",
       "      <td>1</td>\n",
       "      <td>0</td>\n",
       "      <td>0</td>\n",
       "      <td>0</td>\n",
       "      <td>0</td>\n",
       "      <td>1</td>\n",
       "      <td>0</td>\n",
       "      <td>1</td>\n",
       "      <td>0</td>\n",
       "      <td>0</td>\n",
       "    </tr>\n",
       "    <tr>\n",
       "      <th>2</th>\n",
       "      <td>11.6</td>\n",
       "      <td>0.041178</td>\n",
       "      <td>350.79</td>\n",
       "      <td>2014</td>\n",
       "      <td>1</td>\n",
       "      <td>0</td>\n",
       "      <td>0</td>\n",
       "      <td>0</td>\n",
       "      <td>0</td>\n",
       "      <td>0</td>\n",
       "      <td>...</td>\n",
       "      <td>0</td>\n",
       "      <td>0</td>\n",
       "      <td>0</td>\n",
       "      <td>0</td>\n",
       "      <td>1</td>\n",
       "      <td>0</td>\n",
       "      <td>0</td>\n",
       "      <td>1</td>\n",
       "      <td>0</td>\n",
       "      <td>0</td>\n",
       "    </tr>\n",
       "    <tr>\n",
       "      <th>3</th>\n",
       "      <td>11.6</td>\n",
       "      <td>0.041113</td>\n",
       "      <td>355.04</td>\n",
       "      <td>2016</td>\n",
       "      <td>1</td>\n",
       "      <td>0</td>\n",
       "      <td>0</td>\n",
       "      <td>0</td>\n",
       "      <td>0</td>\n",
       "      <td>0</td>\n",
       "      <td>...</td>\n",
       "      <td>0</td>\n",
       "      <td>1</td>\n",
       "      <td>0</td>\n",
       "      <td>0</td>\n",
       "      <td>0</td>\n",
       "      <td>1</td>\n",
       "      <td>0</td>\n",
       "      <td>0</td>\n",
       "      <td>1</td>\n",
       "      <td>0</td>\n",
       "    </tr>\n",
       "    <tr>\n",
       "      <th>4</th>\n",
       "      <td>11.6</td>\n",
       "      <td>0.000000</td>\n",
       "      <td>354.79</td>\n",
       "      <td>2011</td>\n",
       "      <td>0</td>\n",
       "      <td>0</td>\n",
       "      <td>1</td>\n",
       "      <td>0</td>\n",
       "      <td>0</td>\n",
       "      <td>0</td>\n",
       "      <td>...</td>\n",
       "      <td>0</td>\n",
       "      <td>0</td>\n",
       "      <td>1</td>\n",
       "      <td>0</td>\n",
       "      <td>1</td>\n",
       "      <td>0</td>\n",
       "      <td>0</td>\n",
       "      <td>1</td>\n",
       "      <td>0</td>\n",
       "      <td>0</td>\n",
       "    </tr>\n",
       "  </tbody>\n",
       "</table>\n",
       "<p>5 rows × 33 columns</p>\n",
       "</div>"
      ],
      "text/plain": [
       "   Product_Weight  Product_Shelf_Visibility  Product_Price  \\\n",
       "0            11.6                  0.068535         357.54   \n",
       "1            11.6                  0.040912         355.79   \n",
       "2            11.6                  0.041178         350.79   \n",
       "3            11.6                  0.041113         355.04   \n",
       "4            11.6                  0.000000         354.79   \n",
       "\n",
       "   Supermarket_Opening_Year  Product_Fat_Content_Low Fat  \\\n",
       "0                      2005                            1   \n",
       "1                      1994                            1   \n",
       "2                      2014                            1   \n",
       "3                      2016                            1   \n",
       "4                      2011                            0   \n",
       "\n",
       "   Product_Fat_Content_Normal Fat  Product_Fat_Content_Ultra Low fat  \\\n",
       "0                               0                                  0   \n",
       "1                               0                                  0   \n",
       "2                               0                                  0   \n",
       "3                               0                                  0   \n",
       "4                               0                                  1   \n",
       "\n",
       "   Product_Type_Baking Goods  Product_Type_Breads  Product_Type_Breakfast  \\\n",
       "0                          0                    0                       0   \n",
       "1                          0                    0                       0   \n",
       "2                          0                    0                       0   \n",
       "3                          0                    0                       0   \n",
       "4                          0                    0                       0   \n",
       "\n",
       "                  ...                  Supermarket _Size_High  \\\n",
       "0                 ...                                       0   \n",
       "1                 ...                                       1   \n",
       "2                 ...                                       0   \n",
       "3                 ...                                       0   \n",
       "4                 ...                                       0   \n",
       "\n",
       "   Supermarket _Size_Medium  Supermarket _Size_Small  \\\n",
       "0                         0                        0   \n",
       "1                         0                        0   \n",
       "2                         0                        0   \n",
       "3                         1                        0   \n",
       "4                         0                        1   \n",
       "\n",
       "   Supermarket_Location_Type_Cluster 1  Supermarket_Location_Type_Cluster 2  \\\n",
       "0                                    0                                    0   \n",
       "1                                    0                                    0   \n",
       "2                                    0                                    1   \n",
       "3                                    0                                    0   \n",
       "4                                    0                                    1   \n",
       "\n",
       "   Supermarket_Location_Type_Cluster 3  Supermarket_Type_Grocery Store  \\\n",
       "0                                    1                               1   \n",
       "1                                    1                               0   \n",
       "2                                    0                               0   \n",
       "3                                    1                               0   \n",
       "4                                    0                               0   \n",
       "\n",
       "   Supermarket_Type_Supermarket Type1  Supermarket_Type_Supermarket Type2  \\\n",
       "0                                   0                                   0   \n",
       "1                                   1                                   0   \n",
       "2                                   1                                   0   \n",
       "3                                   0                                   1   \n",
       "4                                   1                                   0   \n",
       "\n",
       "   Supermarket_Type_Supermarket Type3  \n",
       "0                                   0  \n",
       "1                                   0  \n",
       "2                                   0  \n",
       "3                                   0  \n",
       "4                                   0  \n",
       "\n",
       "[5 rows x 33 columns]"
      ]
     },
     "execution_count": 48,
     "metadata": {},
     "output_type": "execute_result"
    }
   ],
   "source": [
    "dummified_data = pd.get_dummies(newdata)\n",
    "dummified_data.head()"
   ]
  },
  {
   "cell_type": "code",
   "execution_count": 49,
   "metadata": {},
   "outputs": [],
   "source": [
    "from sklearn.preprocessing import LabelEncoder"
   ]
  },
  {
   "cell_type": "code",
   "execution_count": 51,
   "metadata": {},
   "outputs": [],
   "source": [
    "for cat in cat_cols:\n",
    "    lb = LabelEncoder()\n",
    "    lb.fit(list(newdata[cat].values))\n",
    "    newdata[cat] = lb.transform(list(newdata[cat].values))"
   ]
  },
  {
   "cell_type": "code",
   "execution_count": 53,
   "metadata": {
    "scrolled": true
   },
   "outputs": [
    {
     "data": {
      "text/html": [
       "<div>\n",
       "<style scoped>\n",
       "    .dataframe tbody tr th:only-of-type {\n",
       "        vertical-align: middle;\n",
       "    }\n",
       "\n",
       "    .dataframe tbody tr th {\n",
       "        vertical-align: top;\n",
       "    }\n",
       "\n",
       "    .dataframe thead th {\n",
       "        text-align: right;\n",
       "    }\n",
       "</style>\n",
       "<table border=\"1\" class=\"dataframe\">\n",
       "  <thead>\n",
       "    <tr style=\"text-align: right;\">\n",
       "      <th></th>\n",
       "      <th>Product_Weight</th>\n",
       "      <th>Product_Fat_Content</th>\n",
       "      <th>Product_Shelf_Visibility</th>\n",
       "      <th>Product_Type</th>\n",
       "      <th>Product_Price</th>\n",
       "      <th>Supermarket_Opening_Year</th>\n",
       "      <th>Supermarket _Size</th>\n",
       "      <th>Supermarket_Location_Type</th>\n",
       "      <th>Supermarket_Type</th>\n",
       "    </tr>\n",
       "  </thead>\n",
       "  <tbody>\n",
       "    <tr>\n",
       "      <th>0</th>\n",
       "      <td>11.6</td>\n",
       "      <td>0</td>\n",
       "      <td>0.068535</td>\n",
       "      <td>14</td>\n",
       "      <td>357.54</td>\n",
       "      <td>2005</td>\n",
       "      <td>3</td>\n",
       "      <td>2</td>\n",
       "      <td>0</td>\n",
       "    </tr>\n",
       "    <tr>\n",
       "      <th>1</th>\n",
       "      <td>11.6</td>\n",
       "      <td>0</td>\n",
       "      <td>0.040912</td>\n",
       "      <td>14</td>\n",
       "      <td>355.79</td>\n",
       "      <td>1994</td>\n",
       "      <td>0</td>\n",
       "      <td>2</td>\n",
       "      <td>1</td>\n",
       "    </tr>\n",
       "    <tr>\n",
       "      <th>2</th>\n",
       "      <td>11.6</td>\n",
       "      <td>0</td>\n",
       "      <td>0.041178</td>\n",
       "      <td>14</td>\n",
       "      <td>350.79</td>\n",
       "      <td>2014</td>\n",
       "      <td>3</td>\n",
       "      <td>1</td>\n",
       "      <td>1</td>\n",
       "    </tr>\n",
       "    <tr>\n",
       "      <th>3</th>\n",
       "      <td>11.6</td>\n",
       "      <td>0</td>\n",
       "      <td>0.041113</td>\n",
       "      <td>14</td>\n",
       "      <td>355.04</td>\n",
       "      <td>2016</td>\n",
       "      <td>1</td>\n",
       "      <td>2</td>\n",
       "      <td>2</td>\n",
       "    </tr>\n",
       "    <tr>\n",
       "      <th>4</th>\n",
       "      <td>11.6</td>\n",
       "      <td>2</td>\n",
       "      <td>0.000000</td>\n",
       "      <td>14</td>\n",
       "      <td>354.79</td>\n",
       "      <td>2011</td>\n",
       "      <td>2</td>\n",
       "      <td>1</td>\n",
       "      <td>1</td>\n",
       "    </tr>\n",
       "  </tbody>\n",
       "</table>\n",
       "</div>"
      ],
      "text/plain": [
       "   Product_Weight  Product_Fat_Content  Product_Shelf_Visibility  \\\n",
       "0            11.6                    0                  0.068535   \n",
       "1            11.6                    0                  0.040912   \n",
       "2            11.6                    0                  0.041178   \n",
       "3            11.6                    0                  0.041113   \n",
       "4            11.6                    2                  0.000000   \n",
       "\n",
       "   Product_Type  Product_Price  Supermarket_Opening_Year  Supermarket _Size  \\\n",
       "0            14         357.54                      2005                  3   \n",
       "1            14         355.79                      1994                  0   \n",
       "2            14         350.79                      2014                  3   \n",
       "3            14         355.04                      2016                  1   \n",
       "4            14         354.79                      2011                  2   \n",
       "\n",
       "   Supermarket_Location_Type  Supermarket_Type  \n",
       "0                          2                 0  \n",
       "1                          2                 1  \n",
       "2                          1                 1  \n",
       "3                          2                 2  \n",
       "4                          1                 1  "
      ]
     },
     "execution_count": 53,
     "metadata": {},
     "output_type": "execute_result"
    }
   ],
   "source": [
    "newdata.head()"
   ]
  },
  {
   "cell_type": "markdown",
   "metadata": {},
   "source": [
    "## Fill in Missing Values"
   ]
  },
  {
   "cell_type": "code",
   "execution_count": 55,
   "metadata": {},
   "outputs": [
    {
     "data": {
      "text/plain": [
       "Product_Weight               802\n",
       "Product_Fat_Content            0\n",
       "Product_Shelf_Visibility       0\n",
       "Product_Type                   0\n",
       "Product_Price                  0\n",
       "Supermarket_Opening_Year       0\n",
       "Supermarket _Size              0\n",
       "Supermarket_Location_Type      0\n",
       "Supermarket_Type               0\n",
       "dtype: int64"
      ]
     },
     "execution_count": 55,
     "metadata": {},
     "output_type": "execute_result"
    }
   ],
   "source": [
    "newdata.isnull().sum()"
   ]
  },
  {
   "cell_type": "code",
   "execution_count": 58,
   "metadata": {},
   "outputs": [
    {
     "data": {
      "text/plain": [
       "12.908838347659676"
      ]
     },
     "execution_count": 58,
     "metadata": {},
     "output_type": "execute_result"
    }
   ],
   "source": [
    "mean_pw = newdata['Product_Weight'].mean()\n",
    "mean_pw"
   ]
  },
  {
   "cell_type": "code",
   "execution_count": 59,
   "metadata": {},
   "outputs": [],
   "source": [
    "newdata['Product_Weight'].fillna(mean_pw, inplace=True)"
   ]
  },
  {
   "cell_type": "code",
   "execution_count": 61,
   "metadata": {},
   "outputs": [
    {
     "data": {
      "text/plain": [
       "Product_Weight               0\n",
       "Product_Fat_Content          0\n",
       "Product_Shelf_Visibility     0\n",
       "Product_Type                 0\n",
       "Product_Price                0\n",
       "Supermarket_Opening_Year     0\n",
       "Supermarket _Size            0\n",
       "Supermarket_Location_Type    0\n",
       "Supermarket_Type             0\n",
       "dtype: int64"
      ]
     },
     "execution_count": 61,
     "metadata": {},
     "output_type": "execute_result"
    }
   ],
   "source": [
    "newdata.isnull().sum()"
   ]
  },
  {
   "cell_type": "code",
   "execution_count": 62,
   "metadata": {},
   "outputs": [
    {
     "data": {
      "text/html": [
       "<div>\n",
       "<style scoped>\n",
       "    .dataframe tbody tr th:only-of-type {\n",
       "        vertical-align: middle;\n",
       "    }\n",
       "\n",
       "    .dataframe tbody tr th {\n",
       "        vertical-align: top;\n",
       "    }\n",
       "\n",
       "    .dataframe thead th {\n",
       "        text-align: right;\n",
       "    }\n",
       "</style>\n",
       "<table border=\"1\" class=\"dataframe\">\n",
       "  <thead>\n",
       "    <tr style=\"text-align: right;\">\n",
       "      <th></th>\n",
       "      <th>Product_Weight</th>\n",
       "      <th>Product_Fat_Content</th>\n",
       "      <th>Product_Shelf_Visibility</th>\n",
       "      <th>Product_Type</th>\n",
       "      <th>Product_Price</th>\n",
       "      <th>Supermarket_Opening_Year</th>\n",
       "      <th>Supermarket _Size</th>\n",
       "      <th>Supermarket_Location_Type</th>\n",
       "      <th>Supermarket_Type</th>\n",
       "    </tr>\n",
       "  </thead>\n",
       "  <tbody>\n",
       "    <tr>\n",
       "      <th>0</th>\n",
       "      <td>11.6</td>\n",
       "      <td>0</td>\n",
       "      <td>0.068535</td>\n",
       "      <td>14</td>\n",
       "      <td>357.54</td>\n",
       "      <td>2005</td>\n",
       "      <td>3</td>\n",
       "      <td>2</td>\n",
       "      <td>0</td>\n",
       "    </tr>\n",
       "    <tr>\n",
       "      <th>1</th>\n",
       "      <td>11.6</td>\n",
       "      <td>0</td>\n",
       "      <td>0.040912</td>\n",
       "      <td>14</td>\n",
       "      <td>355.79</td>\n",
       "      <td>1994</td>\n",
       "      <td>0</td>\n",
       "      <td>2</td>\n",
       "      <td>1</td>\n",
       "    </tr>\n",
       "    <tr>\n",
       "      <th>2</th>\n",
       "      <td>11.6</td>\n",
       "      <td>0</td>\n",
       "      <td>0.041178</td>\n",
       "      <td>14</td>\n",
       "      <td>350.79</td>\n",
       "      <td>2014</td>\n",
       "      <td>3</td>\n",
       "      <td>1</td>\n",
       "      <td>1</td>\n",
       "    </tr>\n",
       "    <tr>\n",
       "      <th>3</th>\n",
       "      <td>11.6</td>\n",
       "      <td>0</td>\n",
       "      <td>0.041113</td>\n",
       "      <td>14</td>\n",
       "      <td>355.04</td>\n",
       "      <td>2016</td>\n",
       "      <td>1</td>\n",
       "      <td>2</td>\n",
       "      <td>2</td>\n",
       "    </tr>\n",
       "    <tr>\n",
       "      <th>4</th>\n",
       "      <td>11.6</td>\n",
       "      <td>2</td>\n",
       "      <td>0.000000</td>\n",
       "      <td>14</td>\n",
       "      <td>354.79</td>\n",
       "      <td>2011</td>\n",
       "      <td>2</td>\n",
       "      <td>1</td>\n",
       "      <td>1</td>\n",
       "    </tr>\n",
       "  </tbody>\n",
       "</table>\n",
       "</div>"
      ],
      "text/plain": [
       "   Product_Weight  Product_Fat_Content  Product_Shelf_Visibility  \\\n",
       "0            11.6                    0                  0.068535   \n",
       "1            11.6                    0                  0.040912   \n",
       "2            11.6                    0                  0.041178   \n",
       "3            11.6                    0                  0.041113   \n",
       "4            11.6                    2                  0.000000   \n",
       "\n",
       "   Product_Type  Product_Price  Supermarket_Opening_Year  Supermarket _Size  \\\n",
       "0            14         357.54                      2005                  3   \n",
       "1            14         355.79                      1994                  0   \n",
       "2            14         350.79                      2014                  3   \n",
       "3            14         355.04                      2016                  1   \n",
       "4            14         354.79                      2011                  2   \n",
       "\n",
       "   Supermarket_Location_Type  Supermarket_Type  \n",
       "0                          2                 0  \n",
       "1                          2                 1  \n",
       "2                          1                 1  \n",
       "3                          2                 2  \n",
       "4                          1                 1  "
      ]
     },
     "execution_count": 62,
     "metadata": {},
     "output_type": "execute_result"
    }
   ],
   "source": [
    "newdata.head()"
   ]
  },
  {
   "cell_type": "markdown",
   "metadata": {},
   "source": [
    "## PERFORM NORMALIZATION AND SCALING"
   ]
  },
  {
   "cell_type": "code",
   "execution_count": 63,
   "metadata": {},
   "outputs": [],
   "source": [
    "from sklearn.preprocessing import StandardScaler"
   ]
  },
  {
   "cell_type": "code",
   "execution_count": 64,
   "metadata": {},
   "outputs": [
    {
     "name": "stderr",
     "output_type": "stream",
     "text": [
      "C:\\ProgramData\\Anaconda3\\lib\\site-packages\\sklearn\\preprocessing\\data.py:625: DataConversionWarning: Data with input dtype int64, float64 were all converted to float64 by StandardScaler.\n",
      "  return self.partial_fit(X, y)\n",
      "C:\\ProgramData\\Anaconda3\\lib\\site-packages\\ipykernel_launcher.py:4: DataConversionWarning: Data with input dtype int64, float64 were all converted to float64 by StandardScaler.\n",
      "  after removing the cwd from sys.path.\n"
     ]
    }
   ],
   "source": [
    "scaler = StandardScaler()\n",
    "scaler.fit(newdata)\n",
    "\n",
    "scaled_data = scaler.transform(newdata)"
   ]
  },
  {
   "cell_type": "code",
   "execution_count": 66,
   "metadata": {},
   "outputs": [
    {
     "data": {
      "text/plain": [
       "array([-0.30379891, -0.75902667,  0.03051274,  1.57502366, -0.28704749,\n",
       "        0.02613191,  1.2558981 ,  1.10288196, -1.47708624])"
      ]
     },
     "execution_count": 66,
     "metadata": {},
     "output_type": "execute_result"
    }
   ],
   "source": [
    "scaled_data  # train data"
   ]
  },
  {
   "cell_type": "markdown",
   "metadata": {},
   "source": [
    "### splitting our data "
   ]
  },
  {
   "cell_type": "code",
   "execution_count": 69,
   "metadata": {},
   "outputs": [],
   "source": [
    "from sklearn.model_selection import train_test_split"
   ]
  },
  {
   "cell_type": "code",
   "execution_count": 70,
   "metadata": {},
   "outputs": [],
   "source": [
    "X_train, X_test, y_train, y_test = train_test_split(scaled_data, y_target, test_size = 0.3)"
   ]
  },
  {
   "cell_type": "code",
   "execution_count": 76,
   "metadata": {
    "scrolled": true
   },
   "outputs": [
    {
     "name": "stdout",
     "output_type": "stream",
     "text": [
      "Training data is (3493, 9)\n",
      "Training target is (3493,)\n",
      "test data is (1497, 9)\n",
      "test target is (1497,)\n"
     ]
    }
   ],
   "source": [
    "print(\"Training data is\", X_train.shape)\n",
    "print(\"Training target is\", y_train.shape)\n",
    "print(\"test data is\", X_test.shape)\n",
    "print(\"test target is\", y_test.shape)"
   ]
  },
  {
   "cell_type": "markdown",
   "metadata": {},
   "source": [
    "### TRAINING MODEL"
   ]
  },
  {
   "cell_type": "code",
   "execution_count": 259,
   "metadata": {},
   "outputs": [],
   "source": [
    "from sklearn.linear_model import LinearRegression\n",
    "from sklearn.metrics import mean_absolute_error"
   ]
  },
  {
   "cell_type": "markdown",
   "metadata": {},
   "source": [
    "### USING A LINEAR REGRESSION"
   ]
  },
  {
   "cell_type": "code",
   "execution_count": 78,
   "metadata": {},
   "outputs": [
    {
     "data": {
      "text/plain": [
       "LinearRegression(copy_X=True, fit_intercept=True, n_jobs=None,\n",
       "         normalize=False)"
      ]
     },
     "execution_count": 78,
     "metadata": {},
     "output_type": "execute_result"
    }
   ],
   "source": [
    "lr_model = LinearRegression() #create an object\n",
    "lr_model.fit(X_train, y_train) # traing part"
   ]
  },
  {
   "cell_type": "code",
   "execution_count": 79,
   "metadata": {},
   "outputs": [],
   "source": [
    "predictions = lr_model.predict(X_test)"
   ]
  },
  {
   "cell_type": "code",
   "execution_count": 87,
   "metadata": {},
   "outputs": [
    {
     "data": {
      "text/plain": [
       "2442.2788941144063"
      ]
     },
     "execution_count": 87,
     "metadata": {},
     "output_type": "execute_result"
    }
   ],
   "source": [
    "#print error\n",
    "lr_error = mean_absolute_error(predictions, y_test)\n",
    "lr_error"
   ]
  },
  {
   "cell_type": "markdown",
   "metadata": {},
   "source": [
    "### USING A DECISION TREE"
   ]
  },
  {
   "cell_type": "code",
   "execution_count": 88,
   "metadata": {},
   "outputs": [],
   "source": [
    "from sklearn.tree import DecisionTreeRegressor"
   ]
  },
  {
   "cell_type": "code",
   "execution_count": 126,
   "metadata": {},
   "outputs": [
    {
     "data": {
      "text/plain": [
       "DecisionTreeRegressor(criterion='mse', max_depth=6, max_features=None,\n",
       "           max_leaf_nodes=None, min_impurity_decrease=0.0,\n",
       "           min_impurity_split=None, min_samples_leaf=2,\n",
       "           min_samples_split=2, min_weight_fraction_leaf=0.0,\n",
       "           presort=False, random_state=None, splitter='best')"
      ]
     },
     "execution_count": 126,
     "metadata": {},
     "output_type": "execute_result"
    }
   ],
   "source": [
    "dt_model = DecisionTreeRegressor(max_depth=6, min_samples_leaf=2)\n",
    "dt_model.fit(X_train, y_train)"
   ]
  },
  {
   "cell_type": "code",
   "execution_count": 127,
   "metadata": {},
   "outputs": [],
   "source": [
    "pred = dt_model.predict(X_test)"
   ]
  },
  {
   "cell_type": "code",
   "execution_count": 128,
   "metadata": {},
   "outputs": [
    {
     "data": {
      "text/plain": [
       "2186.8327545559973"
      ]
     },
     "execution_count": 128,
     "metadata": {},
     "output_type": "execute_result"
    }
   ],
   "source": [
    "dt_error = mean_absolute_error(pred, y_test)\n",
    "dt_error"
   ]
  },
  {
   "cell_type": "markdown",
   "metadata": {},
   "source": [
    "### USING KNN"
   ]
  },
  {
   "cell_type": "code",
   "execution_count": 129,
   "metadata": {},
   "outputs": [],
   "source": [
    "from sklearn.neighbors import KNeighborsRegressor"
   ]
  },
  {
   "cell_type": "code",
   "execution_count": 152,
   "metadata": {},
   "outputs": [
    {
     "data": {
      "text/plain": [
       "KNeighborsRegressor(algorithm='auto', leaf_size=30, metric='minkowski',\n",
       "          metric_params=None, n_jobs=None, n_neighbors=60, p=2,\n",
       "          weights='uniform')"
      ]
     },
     "execution_count": 152,
     "metadata": {},
     "output_type": "execute_result"
    }
   ],
   "source": [
    "knn_model = KNeighborsRegressor(n_neighbors=60)\n",
    "knn_model.fit(X_train, y_train)"
   ]
  },
  {
   "cell_type": "code",
   "execution_count": 153,
   "metadata": {},
   "outputs": [],
   "source": [
    "knn_prediction = knn_model.predict(X_test)"
   ]
  },
  {
   "cell_type": "code",
   "execution_count": 154,
   "metadata": {},
   "outputs": [
    {
     "data": {
      "text/plain": [
       "2253.7537972611885"
      ]
     },
     "execution_count": 154,
     "metadata": {},
     "output_type": "execute_result"
    }
   ],
   "source": [
    "knn_error = mean_absolute_error(knn_prediction, y_test)\n",
    "knn_error"
   ]
  },
  {
   "cell_type": "markdown",
   "metadata": {},
   "source": [
    "### USING RANDOM FOREST"
   ]
  },
  {
   "cell_type": "code",
   "execution_count": 155,
   "metadata": {},
   "outputs": [],
   "source": [
    "from sklearn.ensemble import RandomForestRegressor"
   ]
  },
  {
   "cell_type": "code",
   "execution_count": 177,
   "metadata": {},
   "outputs": [
    {
     "data": {
      "text/plain": [
       "RandomForestRegressor(bootstrap=True, criterion='mse', max_depth=5,\n",
       "           max_features='auto', max_leaf_nodes=None,\n",
       "           min_impurity_decrease=0.0, min_impurity_split=None,\n",
       "           min_samples_leaf=1, min_samples_split=2,\n",
       "           min_weight_fraction_leaf=0.0, n_estimators=500, n_jobs=None,\n",
       "           oob_score=False, random_state=None, verbose=0, warm_start=False)"
      ]
     },
     "execution_count": 177,
     "metadata": {},
     "output_type": "execute_result"
    }
   ],
   "source": [
    "rf_model = RandomForestRegressor(n_estimators=500, max_depth=5)\n",
    "rf_model.fit(X_train, y_train)"
   ]
  },
  {
   "cell_type": "code",
   "execution_count": 178,
   "metadata": {},
   "outputs": [],
   "source": [
    "rf_pred = rf_model.predict(X_test)"
   ]
  },
  {
   "cell_type": "code",
   "execution_count": 179,
   "metadata": {},
   "outputs": [
    {
     "data": {
      "text/plain": [
       "2133.2360777343424"
      ]
     },
     "execution_count": 179,
     "metadata": {},
     "output_type": "execute_result"
    }
   ],
   "source": [
    "rf_error = mean_absolute_error(rf_pred, y_test)\n",
    "rf_error"
   ]
  },
  {
   "cell_type": "markdown",
   "metadata": {},
   "source": [
    "### USING BOOSTING TECHNIQUES"
   ]
  },
  {
   "cell_type": "code",
   "execution_count": 180,
   "metadata": {},
   "outputs": [],
   "source": [
    "from sklearn.ensemble import AdaBoostRegressor"
   ]
  },
  {
   "cell_type": "code",
   "execution_count": 202,
   "metadata": {},
   "outputs": [
    {
     "data": {
      "text/plain": [
       "AdaBoostRegressor(base_estimator=None, learning_rate=1.0, loss='linear',\n",
       "         n_estimators=150, random_state=None)"
      ]
     },
     "execution_count": 202,
     "metadata": {},
     "output_type": "execute_result"
    }
   ],
   "source": [
    "ada_model = AdaBoostRegressor(n_estimators=150)\n",
    "ada_model.fit(X_train, y_train)"
   ]
  },
  {
   "cell_type": "code",
   "execution_count": 203,
   "metadata": {},
   "outputs": [],
   "source": [
    "ada_pred = ada_model.predict(X_test)"
   ]
  },
  {
   "cell_type": "code",
   "execution_count": 204,
   "metadata": {},
   "outputs": [
    {
     "data": {
      "text/plain": [
       "2312.2203715516694"
      ]
     },
     "execution_count": 204,
     "metadata": {},
     "output_type": "execute_result"
    }
   ],
   "source": [
    "ada_error = mean_absolute_error(ada_pred, y_test)\n",
    "ada_error"
   ]
  },
  {
   "cell_type": "code",
   "execution_count": 205,
   "metadata": {},
   "outputs": [],
   "source": [
    "from sklearn.ensemble import GradientBoostingRegressor"
   ]
  },
  {
   "cell_type": "code",
   "execution_count": 224,
   "metadata": {},
   "outputs": [
    {
     "data": {
      "text/plain": [
       "GradientBoostingRegressor(alpha=0.9, criterion='friedman_mse', init=None,\n",
       "             learning_rate=0.01, loss='ls', max_depth=3, max_features=None,\n",
       "             max_leaf_nodes=None, min_impurity_decrease=0.0,\n",
       "             min_impurity_split=None, min_samples_leaf=1,\n",
       "             min_samples_split=2, min_weight_fraction_leaf=0.0,\n",
       "             n_estimators=1000, n_iter_no_change=None, presort='auto',\n",
       "             random_state=None, subsample=1.0, tol=0.0001,\n",
       "             validation_fraction=0.1, verbose=0, warm_start=False)"
      ]
     },
     "execution_count": 224,
     "metadata": {},
     "output_type": "execute_result"
    }
   ],
   "source": [
    "gb_model = GradientBoostingRegressor(n_estimators=1000,\n",
    "                                     learning_rate=0.01)\n",
    "gb_model.fit(X_train, y_train)"
   ]
  },
  {
   "cell_type": "code",
   "execution_count": 225,
   "metadata": {},
   "outputs": [],
   "source": [
    "gb_pred = gb_model.predict(X_test)"
   ]
  },
  {
   "cell_type": "code",
   "execution_count": 226,
   "metadata": {},
   "outputs": [
    {
     "data": {
      "text/plain": [
       "2175.7680585720555"
      ]
     },
     "execution_count": 226,
     "metadata": {},
     "output_type": "execute_result"
    }
   ],
   "source": [
    "gb_error = mean_absolute_error(gb_pred, y_test)\n",
    "gb_error"
   ]
  },
  {
   "cell_type": "markdown",
   "metadata": {},
   "source": [
    "### AVERAGING PREDICTIONS OF THREE MODELS"
   ]
  },
  {
   "cell_type": "code",
   "execution_count": 242,
   "metadata": {},
   "outputs": [
    {
     "data": {
      "text/plain": [
       "array([ 7101.5514576 ,  9792.07982122,  3656.38456661, ...,\n",
       "       10519.93099984,  6076.41864001,  8967.0666938 ])"
      ]
     },
     "execution_count": 242,
     "metadata": {},
     "output_type": "execute_result"
    }
   ],
   "source": [
    "avg_pred = (rf_pred + gb_pred + pred) / 3\n",
    "avg_pred"
   ]
  },
  {
   "cell_type": "code",
   "execution_count": 243,
   "metadata": {},
   "outputs": [
    {
     "data": {
      "text/plain": [
       "2146.779761528258"
      ]
     },
     "execution_count": 243,
     "metadata": {},
     "output_type": "execute_result"
    }
   ],
   "source": [
    "avg_error = mean_absolute_error(avg_pred, y_test)\n",
    "avg_error"
   ]
  },
  {
   "cell_type": "markdown",
   "metadata": {},
   "source": [
    "### WEIGHTED AVERAGE OF THREE MODELS"
   ]
  },
  {
   "cell_type": "code",
   "execution_count": 248,
   "metadata": {},
   "outputs": [],
   "source": [
    "weighted_avg_pred = (0.9 * rf_pred + 0.1 * gb_pred + 0.1 * pred)"
   ]
  },
  {
   "cell_type": "code",
   "execution_count": 249,
   "metadata": {},
   "outputs": [
    {
     "data": {
      "text/plain": [
       "2230.798004016773"
      ]
     },
     "execution_count": 249,
     "metadata": {},
     "output_type": "execute_result"
    }
   ],
   "source": [
    "weighted_avg_error = mean_absolute_error(weighted_avg_pred, y_test)\n",
    "weighted_avg_error"
   ]
  }
 ],
 "metadata": {
  "kernelspec": {
   "display_name": "Python 3",
   "language": "python",
   "name": "python3"
  },
  "language_info": {
   "codemirror_mode": {
    "name": "ipython",
    "version": 3
   },
   "file_extension": ".py",
   "mimetype": "text/x-python",
   "name": "python",
   "nbconvert_exporter": "python",
   "pygments_lexer": "ipython3",
   "version": "3.6.6"
  },
  "toc": {
   "base_numbering": 1,
   "nav_menu": {},
   "number_sections": true,
   "sideBar": true,
   "skip_h1_title": false,
   "title_cell": "Table of Contents",
   "title_sidebar": "Contents",
   "toc_cell": false,
   "toc_position": {},
   "toc_section_display": true,
   "toc_window_display": false
  },
  "varInspector": {
   "cols": {
    "lenName": 16,
    "lenType": 16,
    "lenVar": 40
   },
   "kernels_config": {
    "python": {
     "delete_cmd_postfix": "",
     "delete_cmd_prefix": "del ",
     "library": "var_list.py",
     "varRefreshCmd": "print(var_dic_list())"
    },
    "r": {
     "delete_cmd_postfix": ") ",
     "delete_cmd_prefix": "rm(",
     "library": "var_list.r",
     "varRefreshCmd": "cat(var_dic_list()) "
    }
   },
   "types_to_exclude": [
    "module",
    "function",
    "builtin_function_or_method",
    "instance",
    "_Feature"
   ],
   "window_display": false
  }
 },
 "nbformat": 4,
 "nbformat_minor": 2
}
